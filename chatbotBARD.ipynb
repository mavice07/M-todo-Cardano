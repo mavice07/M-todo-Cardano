{
  "nbformat": 4,
  "nbformat_minor": 0,
  "metadata": {
    "colab": {
      "provenance": [],
      "authorship_tag": "ABX9TyO/Wb/8wSrWFwrHZxLTAKg4",
      "include_colab_link": true
    },
    "kernelspec": {
      "name": "python3",
      "display_name": "Python 3"
    },
    "language_info": {
      "name": "python"
    }
  },
  "cells": [
    {
      "cell_type": "markdown",
      "metadata": {
        "id": "view-in-github",
        "colab_type": "text"
      },
      "source": [
        "<a href=\"https://colab.research.google.com/github/mavice07/M-todo-Cardano/blob/main/chatbotBARD.ipynb\" target=\"_parent\"><img src=\"https://colab.research.google.com/assets/colab-badge.svg\" alt=\"Open In Colab\"/></a>"
      ]
    },
    {
      "cell_type": "code",
      "execution_count": 5,
      "metadata": {
        "colab": {
          "base_uri": "https://localhost:8080/"
        },
        "id": "_z4UWoaf8ghT",
        "outputId": "87458509-ff89-4a02-a5a0-9e5dc64203b0"
      },
      "outputs": [
        {
          "output_type": "stream",
          "name": "stdout",
          "text": [
            "Requirement already satisfied: bardapi in /usr/local/lib/python3.10/dist-packages (0.1.38)\n",
            "Requirement already satisfied: httpx[http2]>=0.20.0 in /usr/local/lib/python3.10/dist-packages (from bardapi) (0.25.0)\n",
            "Requirement already satisfied: requests in /usr/local/lib/python3.10/dist-packages (from bardapi) (2.31.0)\n",
            "Requirement already satisfied: deep-translator in /usr/local/lib/python3.10/dist-packages (from bardapi) (1.11.4)\n",
            "Requirement already satisfied: colorama in /usr/local/lib/python3.10/dist-packages (from bardapi) (0.4.6)\n",
            "Requirement already satisfied: google-cloud-translate in /usr/local/lib/python3.10/dist-packages (from bardapi) (3.11.3)\n",
            "Requirement already satisfied: browser-cookie3 in /usr/local/lib/python3.10/dist-packages (from bardapi) (0.19.1)\n",
            "Requirement already satisfied: langdetect in /usr/local/lib/python3.10/dist-packages (from bardapi) (1.0.9)\n",
            "Requirement already satisfied: certifi in /usr/local/lib/python3.10/dist-packages (from httpx[http2]>=0.20.0->bardapi) (2023.7.22)\n",
            "Requirement already satisfied: httpcore<0.19.0,>=0.18.0 in /usr/local/lib/python3.10/dist-packages (from httpx[http2]>=0.20.0->bardapi) (0.18.0)\n",
            "Requirement already satisfied: idna in /usr/local/lib/python3.10/dist-packages (from httpx[http2]>=0.20.0->bardapi) (3.4)\n",
            "Requirement already satisfied: sniffio in /usr/local/lib/python3.10/dist-packages (from httpx[http2]>=0.20.0->bardapi) (1.3.0)\n",
            "Requirement already satisfied: h2<5,>=3 in /usr/local/lib/python3.10/dist-packages (from httpx[http2]>=0.20.0->bardapi) (4.1.0)\n",
            "Requirement already satisfied: lz4 in /usr/local/lib/python3.10/dist-packages (from browser-cookie3->bardapi) (4.3.2)\n",
            "Requirement already satisfied: pycryptodomex in /usr/local/lib/python3.10/dist-packages (from browser-cookie3->bardapi) (3.19.0)\n",
            "Requirement already satisfied: jeepney in /usr/lib/python3/dist-packages (from browser-cookie3->bardapi) (0.7.1)\n",
            "Requirement already satisfied: beautifulsoup4<5.0.0,>=4.9.1 in /usr/local/lib/python3.10/dist-packages (from deep-translator->bardapi) (4.11.2)\n",
            "Requirement already satisfied: charset-normalizer<4,>=2 in /usr/local/lib/python3.10/dist-packages (from requests->bardapi) (3.3.1)\n",
            "Requirement already satisfied: urllib3<3,>=1.21.1 in /usr/local/lib/python3.10/dist-packages (from requests->bardapi) (2.0.7)\n",
            "Requirement already satisfied: google-api-core[grpc]!=2.0.*,!=2.1.*,!=2.10.*,!=2.2.*,!=2.3.*,!=2.4.*,!=2.5.*,!=2.6.*,!=2.7.*,!=2.8.*,!=2.9.*,<3.0.0dev,>=1.34.0 in /usr/local/lib/python3.10/dist-packages (from google-cloud-translate->bardapi) (2.11.1)\n",
            "Requirement already satisfied: google-cloud-core<3.0.0dev,>=1.3.0 in /usr/local/lib/python3.10/dist-packages (from google-cloud-translate->bardapi) (2.3.3)\n",
            "Requirement already satisfied: proto-plus<2.0.0dev,>=1.22.0 in /usr/local/lib/python3.10/dist-packages (from google-cloud-translate->bardapi) (1.22.3)\n",
            "Requirement already satisfied: protobuf!=3.20.0,!=3.20.1,!=4.21.0,!=4.21.1,!=4.21.2,!=4.21.3,!=4.21.4,!=4.21.5,<5.0.0dev,>=3.19.5 in /usr/local/lib/python3.10/dist-packages (from google-cloud-translate->bardapi) (3.20.3)\n",
            "Requirement already satisfied: six in /usr/local/lib/python3.10/dist-packages (from langdetect->bardapi) (1.16.0)\n",
            "Requirement already satisfied: soupsieve>1.2 in /usr/local/lib/python3.10/dist-packages (from beautifulsoup4<5.0.0,>=4.9.1->deep-translator->bardapi) (2.5)\n",
            "Requirement already satisfied: googleapis-common-protos<2.0.dev0,>=1.56.2 in /usr/local/lib/python3.10/dist-packages (from google-api-core[grpc]!=2.0.*,!=2.1.*,!=2.10.*,!=2.2.*,!=2.3.*,!=2.4.*,!=2.5.*,!=2.6.*,!=2.7.*,!=2.8.*,!=2.9.*,<3.0.0dev,>=1.34.0->google-cloud-translate->bardapi) (1.61.0)\n",
            "Requirement already satisfied: google-auth<3.0.dev0,>=2.14.1 in /usr/local/lib/python3.10/dist-packages (from google-api-core[grpc]!=2.0.*,!=2.1.*,!=2.10.*,!=2.2.*,!=2.3.*,!=2.4.*,!=2.5.*,!=2.6.*,!=2.7.*,!=2.8.*,!=2.9.*,<3.0.0dev,>=1.34.0->google-cloud-translate->bardapi) (2.17.3)\n",
            "Requirement already satisfied: grpcio<2.0dev,>=1.33.2 in /usr/local/lib/python3.10/dist-packages (from google-api-core[grpc]!=2.0.*,!=2.1.*,!=2.10.*,!=2.2.*,!=2.3.*,!=2.4.*,!=2.5.*,!=2.6.*,!=2.7.*,!=2.8.*,!=2.9.*,<3.0.0dev,>=1.34.0->google-cloud-translate->bardapi) (1.59.0)\n",
            "Requirement already satisfied: grpcio-status<2.0.dev0,>=1.33.2 in /usr/local/lib/python3.10/dist-packages (from google-api-core[grpc]!=2.0.*,!=2.1.*,!=2.10.*,!=2.2.*,!=2.3.*,!=2.4.*,!=2.5.*,!=2.6.*,!=2.7.*,!=2.8.*,!=2.9.*,<3.0.0dev,>=1.34.0->google-cloud-translate->bardapi) (1.48.2)\n",
            "Requirement already satisfied: hyperframe<7,>=6.0 in /usr/local/lib/python3.10/dist-packages (from h2<5,>=3->httpx[http2]>=0.20.0->bardapi) (6.0.1)\n",
            "Requirement already satisfied: hpack<5,>=4.0 in /usr/local/lib/python3.10/dist-packages (from h2<5,>=3->httpx[http2]>=0.20.0->bardapi) (4.0.0)\n",
            "Requirement already satisfied: anyio<5.0,>=3.0 in /usr/local/lib/python3.10/dist-packages (from httpcore<0.19.0,>=0.18.0->httpx[http2]>=0.20.0->bardapi) (3.7.1)\n",
            "Requirement already satisfied: h11<0.15,>=0.13 in /usr/local/lib/python3.10/dist-packages (from httpcore<0.19.0,>=0.18.0->httpx[http2]>=0.20.0->bardapi) (0.14.0)\n",
            "Requirement already satisfied: exceptiongroup in /usr/local/lib/python3.10/dist-packages (from anyio<5.0,>=3.0->httpcore<0.19.0,>=0.18.0->httpx[http2]>=0.20.0->bardapi) (1.1.3)\n",
            "Requirement already satisfied: cachetools<6.0,>=2.0.0 in /usr/local/lib/python3.10/dist-packages (from google-auth<3.0.dev0,>=2.14.1->google-api-core[grpc]!=2.0.*,!=2.1.*,!=2.10.*,!=2.2.*,!=2.3.*,!=2.4.*,!=2.5.*,!=2.6.*,!=2.7.*,!=2.8.*,!=2.9.*,<3.0.0dev,>=1.34.0->google-cloud-translate->bardapi) (5.3.2)\n",
            "Requirement already satisfied: pyasn1-modules>=0.2.1 in /usr/local/lib/python3.10/dist-packages (from google-auth<3.0.dev0,>=2.14.1->google-api-core[grpc]!=2.0.*,!=2.1.*,!=2.10.*,!=2.2.*,!=2.3.*,!=2.4.*,!=2.5.*,!=2.6.*,!=2.7.*,!=2.8.*,!=2.9.*,<3.0.0dev,>=1.34.0->google-cloud-translate->bardapi) (0.3.0)\n",
            "Requirement already satisfied: rsa<5,>=3.1.4 in /usr/local/lib/python3.10/dist-packages (from google-auth<3.0.dev0,>=2.14.1->google-api-core[grpc]!=2.0.*,!=2.1.*,!=2.10.*,!=2.2.*,!=2.3.*,!=2.4.*,!=2.5.*,!=2.6.*,!=2.7.*,!=2.8.*,!=2.9.*,<3.0.0dev,>=1.34.0->google-cloud-translate->bardapi) (4.9)\n",
            "Requirement already satisfied: pyasn1<0.6.0,>=0.4.6 in /usr/local/lib/python3.10/dist-packages (from pyasn1-modules>=0.2.1->google-auth<3.0.dev0,>=2.14.1->google-api-core[grpc]!=2.0.*,!=2.1.*,!=2.10.*,!=2.2.*,!=2.3.*,!=2.4.*,!=2.5.*,!=2.6.*,!=2.7.*,!=2.8.*,!=2.9.*,<3.0.0dev,>=1.34.0->google-cloud-translate->bardapi) (0.5.0)\n"
          ]
        }
      ],
      "source": [
        "!pip install bardapi"
      ]
    },
    {
      "cell_type": "code",
      "source": [
        "from bardapi import Bard\n",
        "import os"
      ],
      "metadata": {
        "id": "o5BIAu3iAweh"
      },
      "execution_count": 6,
      "outputs": []
    },
    {
      "cell_type": "code",
      "source": [
        "os.environ['_BARD_API_KEY'] = 'cggMoucvWdztm9dSyzo-ETqcI_-NR8FtJTmyWvIYDiyZhGMlauEnBcTqp5F-UnVXMdNJLw.'\n",
        "print(Bard().get_answer(\"What is pollution?\")['content'])"
      ],
      "metadata": {
        "colab": {
          "base_uri": "https://localhost:8080/"
        },
        "id": "7ivUqg5G80IJ",
        "outputId": "06116dee-366e-4821-b7cb-91c2acd339b1"
      },
      "execution_count": 9,
      "outputs": [
        {
          "output_type": "stream",
          "name": "stdout",
          "text": [
            "Pollution is the introduction of harmful substances or energy into the environment at a rate faster than it can be naturally diluted, decomposed, recycled, or stored in some harmless form. Pollutants can be solid wastes, liquids, gases, or energy that can have harmful effects on human health, plants, animals, and the environment.\n",
            "\n",
            "Pollution can occur in any environmental medium, including air, water, soil, and land. Some of the most common types of pollution include:\n",
            "\n",
            "* **Air pollution:** The release of harmful gases and particulate matter into the air, such as from vehicles, factories, and power plants.\n",
            "* **Water pollution:** The contamination of water bodies with harmful substances, such as sewage, industrial waste, and agricultural runoff.\n",
            "* **Soil pollution:** The contamination of soil with harmful substances, such as pesticides, herbicides, and heavy metals.\n",
            "* **Noise pollution:** The excessive noise that can interfere with people's ability to hear or concentrate.\n",
            "* **Light pollution:** The excessive use of artificial light at night, which can disrupt natural ecosystems and human sleep patterns.\n",
            "\n",
            "Pollution can have a wide range of negative consequences for human health and the environment. For example, air pollution can cause respiratory problems, heart disease, and cancer. Water pollution can lead to diseases such as cholera, typhoid, and dysentery. Soil pollution can contaminate food and water supplies, and noise pollution can lead to hearing loss and other health problems.\n",
            "\n",
            "Pollution can also have a significant impact on ecosystems. For example, water pollution can kill fish and other aquatic life, and soil pollution can damage plant and animal habitats. Noise pollution can disrupt the breeding and migration patterns of animals.\n",
            "\n",
            "There are a number of things that can be done to reduce pollution, such as:\n",
            "\n",
            "* **Improving energy efficiency:** This can help to reduce emissions from power plants and vehicles.\n",
            "* **Using cleaner fuels:** This can help to reduce air pollution and greenhouse gas emissions.\n",
            "* **Reducing waste:** This can help to reduce pollution from landfills and incinerators.\n",
            "* **Protecting and restoring ecosystems:** This can help to absorb pollutants and provide other environmental benefits.\n",
            "\n",
            "By taking steps to reduce pollution, we can protect our health, the environment, and our planet for future generations.\n"
          ]
        }
      ]
    },
    {
      "cell_type": "code",
      "source": [
        "print(Bard().get_answer(\"How can I programme a ChatBot?\")['content'])"
      ],
      "metadata": {
        "colab": {
          "base_uri": "https://localhost:8080/"
        },
        "id": "xsebm0tzAw_-",
        "outputId": "85fa89df-8818-47e9-c9d3-16dc43354478"
      },
      "execution_count": 11,
      "outputs": [
        {
          "output_type": "stream",
          "name": "stdout",
          "text": [
            "To program a chatbot, you will need to:\n",
            "\n",
            "1. **Identify the type of chatbot you want to build.** What will the chatbot be used for? What features will it need?\n",
            "2. **Choose a programming language and framework.** There are many different programming languages and frameworks that can be used to build chatbots. Some popular choices include Python, JavaScript, and Java.\n",
            "3. **Design the chatbot's conversation flow.** This is the blueprint for how the chatbot will interact with users. You will need to identify the different paths that the conversation can take, and the responses that the chatbot will give at each step.\n",
            "4. **Implement the chatbot's logic.** This is where you will write the code that makes the chatbot work. You will need to implement the chatbot's conversation flow, as well as its ability to understand and respond to user input.\n",
            "5. **Train the chatbot.** Once you have implemented the chatbot's logic, you will need to train it on a dataset of conversations. This will help the chatbot to learn how to respond to different types of user input.\n",
            "6. **Test and deploy the chatbot.** Once the chatbot is trained, you will need to test it thoroughly to make sure that it works as expected. Once you are satisfied with the chatbot's performance, you can deploy it so that users can start interacting with it.\n",
            "\n",
            "If you are new to chatbot programming, there are many resources available to help you get started. There are also many pre-built chatbot frameworks that can simplify the process of building and deploying chatbots.\n",
            "\n",
            "Here are some additional tips for programming a chatbot:\n",
            "\n",
            "* Use a natural language processing (NLP) library. NLP libraries can help the chatbot to understand and respond to user input more effectively.\n",
            "* Use a machine learning library. Machine learning libraries can help the chatbot to learn and improve over time.\n",
            "* Make sure the chatbot's responses are relevant and helpful. Users should feel like they are talking to a real person, not just a machine.\n",
            "* Test the chatbot thoroughly before deploying it. Make sure that it can handle a variety of different user inputs and that it responds appropriately.\n",
            "* Monitor the chatbot's performance after deployment. Collect feedback from users and make changes to the chatbot as needed.\n",
            "\n",
            "I hope this helps!\n"
          ]
        }
      ]
    }
  ]
}