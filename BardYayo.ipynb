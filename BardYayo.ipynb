{
  "nbformat": 4,
  "nbformat_minor": 0,
  "metadata": {
    "colab": {
      "provenance": [],
      "authorship_tag": "ABX9TyMjCwyYZODq0iv4OOu/7vph",
      "include_colab_link": true
    },
    "kernelspec": {
      "name": "python3",
      "display_name": "Python 3"
    },
    "language_info": {
      "name": "python"
    }
  },
  "cells": [
    {
      "cell_type": "markdown",
      "metadata": {
        "id": "view-in-github",
        "colab_type": "text"
      },
      "source": [
        "<a href=\"https://colab.research.google.com/github/mavice07/M-todo-Cardano/blob/main/BardYayo.ipynb\" target=\"_parent\"><img src=\"https://colab.research.google.com/assets/colab-badge.svg\" alt=\"Open In Colab\"/></a>"
      ]
    },
    {
      "cell_type": "markdown",
      "source": [
        "# README (Para Marta)\n",
        "Es importante ejecutarlo en un google exclusivo de la cuenta martavn16@gmail.com, la de la ucm lo tiene de alguna manera capado.\n",
        "\n",
        "En el video (\"como clonar la api de bard...\") y en el git hub que sale en ese video, tmb enseñan como hacer audios y fotos con eso. Lo de las fotos podría ser interesante. También a hacer la interfaz del chatbot como algo de telegram."
      ],
      "metadata": {
        "id": "LDQocQELXGAf"
      }
    },
    {
      "cell_type": "code",
      "execution_count": 1,
      "metadata": {
        "colab": {
          "base_uri": "https://localhost:8080/"
        },
        "id": "_z4UWoaf8ghT",
        "outputId": "05da88b1-2f5e-4d19-f6ce-38d2cbc0b4eb"
      },
      "outputs": [
        {
          "output_type": "stream",
          "name": "stdout",
          "text": [
            "Collecting bardapi\n",
            "  Downloading bardapi-0.1.38-py3-none-any.whl (39 kB)\n",
            "Collecting httpx[http2]>=0.20.0 (from bardapi)\n",
            "  Downloading httpx-0.25.0-py3-none-any.whl (75 kB)\n",
            "\u001b[2K     \u001b[90m━━━━━━━━━━━━━━━━━━━━━━━━━━━━━━━━━━━━━━━━\u001b[0m \u001b[32m75.7/75.7 kB\u001b[0m \u001b[31m5.5 MB/s\u001b[0m eta \u001b[36m0:00:00\u001b[0m\n",
            "\u001b[?25hRequirement already satisfied: requests in /usr/local/lib/python3.10/dist-packages (from bardapi) (2.31.0)\n",
            "Collecting deep-translator (from bardapi)\n",
            "  Downloading deep_translator-1.11.4-py3-none-any.whl (42 kB)\n",
            "\u001b[2K     \u001b[90m━━━━━━━━━━━━━━━━━━━━━━━━━━━━━━━━━━━━━━━━\u001b[0m \u001b[32m42.3/42.3 kB\u001b[0m \u001b[31m5.6 MB/s\u001b[0m eta \u001b[36m0:00:00\u001b[0m\n",
            "\u001b[?25hCollecting colorama (from bardapi)\n",
            "  Downloading colorama-0.4.6-py2.py3-none-any.whl (25 kB)\n",
            "Requirement already satisfied: google-cloud-translate in /usr/local/lib/python3.10/dist-packages (from bardapi) (3.11.3)\n",
            "Collecting browser-cookie3 (from bardapi)\n",
            "  Downloading browser_cookie3-0.19.1-py3-none-any.whl (14 kB)\n",
            "Collecting langdetect (from bardapi)\n",
            "  Downloading langdetect-1.0.9.tar.gz (981 kB)\n",
            "\u001b[2K     \u001b[90m━━━━━━━━━━━━━━━━━━━━━━━━━━━━━━━━━━━━━━━━\u001b[0m \u001b[32m981.5/981.5 kB\u001b[0m \u001b[31m37.3 MB/s\u001b[0m eta \u001b[36m0:00:00\u001b[0m\n",
            "\u001b[?25h  Preparing metadata (setup.py) ... \u001b[?25l\u001b[?25hdone\n",
            "Requirement already satisfied: certifi in /usr/local/lib/python3.10/dist-packages (from httpx[http2]>=0.20.0->bardapi) (2023.7.22)\n",
            "Collecting httpcore<0.19.0,>=0.18.0 (from httpx[http2]>=0.20.0->bardapi)\n",
            "  Downloading httpcore-0.18.0-py3-none-any.whl (76 kB)\n",
            "\u001b[2K     \u001b[90m━━━━━━━━━━━━━━━━━━━━━━━━━━━━━━━━━━━━━━━━\u001b[0m \u001b[32m76.0/76.0 kB\u001b[0m \u001b[31m10.9 MB/s\u001b[0m eta \u001b[36m0:00:00\u001b[0m\n",
            "\u001b[?25hRequirement already satisfied: idna in /usr/local/lib/python3.10/dist-packages (from httpx[http2]>=0.20.0->bardapi) (3.4)\n",
            "Requirement already satisfied: sniffio in /usr/local/lib/python3.10/dist-packages (from httpx[http2]>=0.20.0->bardapi) (1.3.0)\n",
            "Collecting h2<5,>=3 (from httpx[http2]>=0.20.0->bardapi)\n",
            "  Downloading h2-4.1.0-py3-none-any.whl (57 kB)\n",
            "\u001b[2K     \u001b[90m━━━━━━━━━━━━━━━━━━━━━━━━━━━━━━━━━━━━━━━━\u001b[0m \u001b[32m57.5/57.5 kB\u001b[0m \u001b[31m6.6 MB/s\u001b[0m eta \u001b[36m0:00:00\u001b[0m\n",
            "\u001b[?25hCollecting lz4 (from browser-cookie3->bardapi)\n",
            "  Downloading lz4-4.3.2-cp310-cp310-manylinux_2_17_x86_64.manylinux2014_x86_64.whl (1.3 MB)\n",
            "\u001b[2K     \u001b[90m━━━━━━━━━━━━━━━━━━━━━━━━━━━━━━━━━━━━━━━━\u001b[0m \u001b[32m1.3/1.3 MB\u001b[0m \u001b[31m72.1 MB/s\u001b[0m eta \u001b[36m0:00:00\u001b[0m\n",
            "\u001b[?25hCollecting pycryptodomex (from browser-cookie3->bardapi)\n",
            "  Downloading pycryptodomex-3.19.0-cp35-abi3-manylinux_2_17_x86_64.manylinux2014_x86_64.whl (2.1 MB)\n",
            "\u001b[2K     \u001b[90m━━━━━━━━━━━━━━━━━━━━━━━━━━━━━━━━━━━━━━━━\u001b[0m \u001b[32m2.1/2.1 MB\u001b[0m \u001b[31m88.9 MB/s\u001b[0m eta \u001b[36m0:00:00\u001b[0m\n",
            "\u001b[?25hRequirement already satisfied: jeepney in /usr/lib/python3/dist-packages (from browser-cookie3->bardapi) (0.7.1)\n",
            "Requirement already satisfied: beautifulsoup4<5.0.0,>=4.9.1 in /usr/local/lib/python3.10/dist-packages (from deep-translator->bardapi) (4.11.2)\n",
            "Requirement already satisfied: charset-normalizer<4,>=2 in /usr/local/lib/python3.10/dist-packages (from requests->bardapi) (3.3.1)\n",
            "Requirement already satisfied: urllib3<3,>=1.21.1 in /usr/local/lib/python3.10/dist-packages (from requests->bardapi) (2.0.7)\n",
            "Requirement already satisfied: google-api-core[grpc]!=2.0.*,!=2.1.*,!=2.10.*,!=2.2.*,!=2.3.*,!=2.4.*,!=2.5.*,!=2.6.*,!=2.7.*,!=2.8.*,!=2.9.*,<3.0.0dev,>=1.34.0 in /usr/local/lib/python3.10/dist-packages (from google-cloud-translate->bardapi) (2.11.1)\n",
            "Requirement already satisfied: google-cloud-core<3.0.0dev,>=1.3.0 in /usr/local/lib/python3.10/dist-packages (from google-cloud-translate->bardapi) (2.3.3)\n",
            "Requirement already satisfied: proto-plus<2.0.0dev,>=1.22.0 in /usr/local/lib/python3.10/dist-packages (from google-cloud-translate->bardapi) (1.22.3)\n",
            "Requirement already satisfied: protobuf!=3.20.0,!=3.20.1,!=4.21.0,!=4.21.1,!=4.21.2,!=4.21.3,!=4.21.4,!=4.21.5,<5.0.0dev,>=3.19.5 in /usr/local/lib/python3.10/dist-packages (from google-cloud-translate->bardapi) (3.20.3)\n",
            "Requirement already satisfied: six in /usr/local/lib/python3.10/dist-packages (from langdetect->bardapi) (1.16.0)\n",
            "Requirement already satisfied: soupsieve>1.2 in /usr/local/lib/python3.10/dist-packages (from beautifulsoup4<5.0.0,>=4.9.1->deep-translator->bardapi) (2.5)\n",
            "Requirement already satisfied: googleapis-common-protos<2.0.dev0,>=1.56.2 in /usr/local/lib/python3.10/dist-packages (from google-api-core[grpc]!=2.0.*,!=2.1.*,!=2.10.*,!=2.2.*,!=2.3.*,!=2.4.*,!=2.5.*,!=2.6.*,!=2.7.*,!=2.8.*,!=2.9.*,<3.0.0dev,>=1.34.0->google-cloud-translate->bardapi) (1.61.0)\n",
            "Requirement already satisfied: google-auth<3.0.dev0,>=2.14.1 in /usr/local/lib/python3.10/dist-packages (from google-api-core[grpc]!=2.0.*,!=2.1.*,!=2.10.*,!=2.2.*,!=2.3.*,!=2.4.*,!=2.5.*,!=2.6.*,!=2.7.*,!=2.8.*,!=2.9.*,<3.0.0dev,>=1.34.0->google-cloud-translate->bardapi) (2.17.3)\n",
            "Requirement already satisfied: grpcio<2.0dev,>=1.33.2 in /usr/local/lib/python3.10/dist-packages (from google-api-core[grpc]!=2.0.*,!=2.1.*,!=2.10.*,!=2.2.*,!=2.3.*,!=2.4.*,!=2.5.*,!=2.6.*,!=2.7.*,!=2.8.*,!=2.9.*,<3.0.0dev,>=1.34.0->google-cloud-translate->bardapi) (1.59.0)\n",
            "Requirement already satisfied: grpcio-status<2.0.dev0,>=1.33.2 in /usr/local/lib/python3.10/dist-packages (from google-api-core[grpc]!=2.0.*,!=2.1.*,!=2.10.*,!=2.2.*,!=2.3.*,!=2.4.*,!=2.5.*,!=2.6.*,!=2.7.*,!=2.8.*,!=2.9.*,<3.0.0dev,>=1.34.0->google-cloud-translate->bardapi) (1.48.2)\n",
            "Collecting hyperframe<7,>=6.0 (from h2<5,>=3->httpx[http2]>=0.20.0->bardapi)\n",
            "  Downloading hyperframe-6.0.1-py3-none-any.whl (12 kB)\n",
            "Collecting hpack<5,>=4.0 (from h2<5,>=3->httpx[http2]>=0.20.0->bardapi)\n",
            "  Downloading hpack-4.0.0-py3-none-any.whl (32 kB)\n",
            "Requirement already satisfied: anyio<5.0,>=3.0 in /usr/local/lib/python3.10/dist-packages (from httpcore<0.19.0,>=0.18.0->httpx[http2]>=0.20.0->bardapi) (3.7.1)\n",
            "Collecting h11<0.15,>=0.13 (from httpcore<0.19.0,>=0.18.0->httpx[http2]>=0.20.0->bardapi)\n",
            "  Downloading h11-0.14.0-py3-none-any.whl (58 kB)\n",
            "\u001b[2K     \u001b[90m━━━━━━━━━━━━━━━━━━━━━━━━━━━━━━━━━━━━━━━━\u001b[0m \u001b[32m58.3/58.3 kB\u001b[0m \u001b[31m8.5 MB/s\u001b[0m eta \u001b[36m0:00:00\u001b[0m\n",
            "\u001b[?25hRequirement already satisfied: exceptiongroup in /usr/local/lib/python3.10/dist-packages (from anyio<5.0,>=3.0->httpcore<0.19.0,>=0.18.0->httpx[http2]>=0.20.0->bardapi) (1.1.3)\n",
            "Requirement already satisfied: cachetools<6.0,>=2.0.0 in /usr/local/lib/python3.10/dist-packages (from google-auth<3.0.dev0,>=2.14.1->google-api-core[grpc]!=2.0.*,!=2.1.*,!=2.10.*,!=2.2.*,!=2.3.*,!=2.4.*,!=2.5.*,!=2.6.*,!=2.7.*,!=2.8.*,!=2.9.*,<3.0.0dev,>=1.34.0->google-cloud-translate->bardapi) (5.3.2)\n",
            "Requirement already satisfied: pyasn1-modules>=0.2.1 in /usr/local/lib/python3.10/dist-packages (from google-auth<3.0.dev0,>=2.14.1->google-api-core[grpc]!=2.0.*,!=2.1.*,!=2.10.*,!=2.2.*,!=2.3.*,!=2.4.*,!=2.5.*,!=2.6.*,!=2.7.*,!=2.8.*,!=2.9.*,<3.0.0dev,>=1.34.0->google-cloud-translate->bardapi) (0.3.0)\n",
            "Requirement already satisfied: rsa<5,>=3.1.4 in /usr/local/lib/python3.10/dist-packages (from google-auth<3.0.dev0,>=2.14.1->google-api-core[grpc]!=2.0.*,!=2.1.*,!=2.10.*,!=2.2.*,!=2.3.*,!=2.4.*,!=2.5.*,!=2.6.*,!=2.7.*,!=2.8.*,!=2.9.*,<3.0.0dev,>=1.34.0->google-cloud-translate->bardapi) (4.9)\n",
            "Requirement already satisfied: pyasn1<0.6.0,>=0.4.6 in /usr/local/lib/python3.10/dist-packages (from pyasn1-modules>=0.2.1->google-auth<3.0.dev0,>=2.14.1->google-api-core[grpc]!=2.0.*,!=2.1.*,!=2.10.*,!=2.2.*,!=2.3.*,!=2.4.*,!=2.5.*,!=2.6.*,!=2.7.*,!=2.8.*,!=2.9.*,<3.0.0dev,>=1.34.0->google-cloud-translate->bardapi) (0.5.0)\n",
            "Building wheels for collected packages: langdetect\n",
            "  Building wheel for langdetect (setup.py) ... \u001b[?25l\u001b[?25hdone\n",
            "  Created wheel for langdetect: filename=langdetect-1.0.9-py3-none-any.whl size=993224 sha256=a51de3db82535b6a878c0ed2badd89c75ac2f0b78e1db468211457682461cdfb\n",
            "  Stored in directory: /root/.cache/pip/wheels/95/03/7d/59ea870c70ce4e5a370638b5462a7711ab78fba2f655d05106\n",
            "Successfully built langdetect\n",
            "Installing collected packages: pycryptodomex, lz4, langdetect, hyperframe, hpack, h11, colorama, httpcore, h2, deep-translator, browser-cookie3, httpx, bardapi\n",
            "Successfully installed bardapi-0.1.38 browser-cookie3-0.19.1 colorama-0.4.6 deep-translator-1.11.4 h11-0.14.0 h2-4.1.0 hpack-4.0.0 httpcore-0.18.0 httpx-0.25.0 hyperframe-6.0.1 langdetect-1.0.9 lz4-4.3.2 pycryptodomex-3.19.0\n"
          ]
        }
      ],
      "source": [
        "!pip install bardapi"
      ]
    },
    {
      "cell_type": "code",
      "source": [
        "from bardapi import Bard\n",
        "import os"
      ],
      "metadata": {
        "id": "o5BIAu3iAweh"
      },
      "execution_count": 3,
      "outputs": []
    },
    {
      "cell_type": "code",
      "source": [
        "os.environ['_BARD_API_KEY'] = 'cggMogVhz2eSCwfPRUw0WD4FASm8puF9oeKZyBPSOO1-8hpuaZd07P9rXu2YZjD7AOmrzw.'"
      ],
      "metadata": {
        "id": "7ivUqg5G80IJ"
      },
      "execution_count": 8,
      "outputs": []
    },
    {
      "cell_type": "code",
      "source": [
        "print(Bard().get_answer(\"What is pollution?\")['content'])"
      ],
      "metadata": {
        "colab": {
          "base_uri": "https://localhost:8080/"
        },
        "id": "4TktABYSTruD",
        "outputId": "9d711efd-181a-41fd-b021-05f1ce2c2ef2"
      },
      "execution_count": 9,
      "outputs": [
        {
          "output_type": "stream",
          "name": "stdout",
          "text": [
            "Pollution is the introduction of harmful substances or energy into the environment at a rate faster than the environment can naturally decompose or render harmless. Pollutants can be natural, such as volcanic ash, or human-made, such as chemicals from factories or vehicles.\n",
            "\n",
            "Pollution can occur in any of the Earth's systems, including the air, water, soil, and land. It can also affect the climate and biodiversity.\n",
            "\n",
            "There are many different types of pollution, including:\n",
            "\n",
            "* **Air pollution:** This type of pollution occurs when harmful gases and particles are released into the air. Common air pollutants include particulate matter, ozone, nitrogen oxides, and sulfur dioxide.\n",
            "* **Water pollution:** This type of pollution occurs when harmful substances are released into water bodies, such as rivers, lakes, and oceans. Common water pollutants include sewage, industrial waste, and agricultural runoff.\n",
            "* **Soil pollution:** This type of pollution occurs when harmful substances are released into the soil. Common soil pollutants include pesticides, herbicides, and heavy metals.\n",
            "* **Noise pollution:** This type of pollution occurs when excessive noise levels are produced. Common noise pollutants include traffic noise, aircraft noise, and construction noise.\n",
            "* **Light pollution:** This type of pollution occurs when excessive artificial light is produced. Common light pollutants include streetlights, billboards, and commercial lighting.\n",
            "\n",
            "Pollution can have a number of negative impacts on human health, the environment, and the economy. Some of the specific impacts of pollution include:\n",
            "\n",
            "* **Health problems:** Exposure to pollutants can cause a variety of health problems, including respiratory problems, cancer, heart disease, and neurological disorders.\n",
            "* **Damage to ecosystems:** Pollution can damage ecosystems by killing plants and animals, disrupting food chains, and altering habitats.\n",
            "* **Reduced crop yields:** Water and soil pollution can reduce crop yields, which can lead to food insecurity.\n",
            "* **Damage to infrastructure:** Air pollution can corrode buildings and other infrastructure.\n",
            "* **Economic losses:** Pollution can lead to economic losses due to health problems, damage to ecosystems, and reduced crop yields.\n",
            "\n",
            "There are a number of things that can be done to reduce pollution, such as:\n",
            "\n",
            "* **Using cleaner fuels:** Switching to cleaner fuels, such as natural gas and solar power, can help to reduce air pollution.\n",
            "* **Improving energy efficiency:** Reducing energy consumption can help to reduce air pollution and water pollution.\n",
            "* **Reducing waste:** Reducing waste production and recycling more materials can help to reduce soil and water pollution.\n",
            "* **Protecting sensitive ecosystems:** Protecting wetlands, forests, and other sensitive ecosystems can help to filter pollutants and reduce their impact on the environment.\n",
            "\n",
            "Pollution is a serious problem, but it is one that can be solved. By taking action to reduce pollution, we can protect our health, the environment, and the economy for future generations.\n"
          ]
        }
      ]
    },
    {
      "cell_type": "code",
      "source": [
        "print(Bard().get_answer(\"How can I programme a ChatBot?\")['content'])"
      ],
      "metadata": {
        "colab": {
          "base_uri": "https://localhost:8080/"
        },
        "id": "xsebm0tzAw_-",
        "outputId": "56edbcbc-aeca-4fa6-9ef1-3a60e1b0d992"
      },
      "execution_count": null,
      "outputs": [
        {
          "output_type": "stream",
          "name": "stdout",
          "text": [
            "To program a chatbot, you will need to:\n",
            "\n",
            "1. **Choose a programming language.** Python is a popular choice for chatbot development, as it is relatively easy to learn and has a large community of developers. Other popular languages include Java, C++, and Go.\n",
            "\n",
            "2. **Select a chatbot framework.** A chatbot framework provides a set of tools and libraries that can help you to develop your chatbot more quickly and easily. Some popular chatbot frameworks include Rasa, Dialogflow, and Botkit.\n",
            "\n",
            "3. **Design the conversation flow.** This involves mapping out the different paths that the conversation can take, depending on the user's input. You can use a flowchart or diagram to help you with this.\n",
            "\n",
            "4. **Implement the conversation flow in code.** This will involve writing code to handle the different user inputs and responses. You will also need to write code to integrate your chatbot with the platform where it will be deployed, such as a website or messaging app.\n",
            "\n",
            "5. **Train the chatbot.** This involves feeding the chatbot with a large dataset of conversations. This dataset should include a variety of different user inputs and responses. The chatbot will use this dataset to learn how to respond to users in a natural and informative way.\n",
            "\n",
            "6. **Test the chatbot.** Once the chatbot is trained, you need to test it thoroughly to make sure that it is working as expected. You can do this by chatting with the bot yourself or by asking others to test it for you.\n",
            "\n",
            "7. **Deploy the chatbot.** Once you are satisfied with the chatbot, you can deploy it to the platform where you want it to be used. This may involve integrating the chatbot with a website, messaging app, or other platform.\n",
            "\n",
            "Here are some additional tips for programming a chatbot:\n",
            "\n",
            "* Use a modular design. This will make your code easier to maintain and update.\n",
            "* Use natural language processing (NLP) techniques. This will help your chatbot to understand and respond to user input in a more natural way.\n",
            "* Make your chatbot error-tolerant. This is important because users may make mistakes in their input.\n",
            "* Provide feedback to users. This will help users to understand what the chatbot is doing and why.\n",
            "* Monitor the chatbot's performance. This will help you to identify any areas where the chatbot needs improvement.\n",
            "\n",
            "If you are new to chatbot development, there are many resources available to help you get started. There are also many pre-built chatbot templates and frameworks that you can use.\n",
            "\n",
            "Here are some examples of chatbot development platforms:\n",
            "\n",
            "* Rasa: An open-source chatbot development platform that uses machine learning to understand and respond to user input.\n",
            "* Dialogflow: A Google-developed chatbot development platform that provides a variety of tools and features for building chatbots.\n",
            "* Botkit: A JavaScript framework for building chatbots that can be deployed on a variety of platforms.\n",
            "\n",
            "I hope this information is helpful. Please let me know if you have any other questions.\n"
          ]
        }
      ]
    },
    {
      "cell_type": "markdown",
      "source": [
        "# Interfaz de chatbot en telegram"
      ],
      "metadata": {
        "id": "w_VliA6J4lgl"
      }
    },
    {
      "cell_type": "code",
      "source": [
        "!pip install pyTelegramBotApi"
      ],
      "metadata": {
        "colab": {
          "base_uri": "https://localhost:8080/"
        },
        "id": "F6Unh81kachg",
        "outputId": "a8d7b9d3-a744-4f16-df2e-bce70d1178f5"
      },
      "execution_count": null,
      "outputs": [
        {
          "output_type": "stream",
          "name": "stdout",
          "text": [
            "Collecting pyTelegramBotApi\n",
            "  Downloading pyTelegramBotAPI-4.14.0.tar.gz (243 kB)\n",
            "\u001b[?25l     \u001b[90m━━━━━━━━━━━━━━━━━━━━━━━━━━━━━━━━━━━━━━━━\u001b[0m \u001b[32m0.0/243.1 kB\u001b[0m \u001b[31m?\u001b[0m eta \u001b[36m-:--:--\u001b[0m\r\u001b[2K     \u001b[91m━━━━━━━━━━━━━━━━━━━━━━━\u001b[0m\u001b[91m╸\u001b[0m\u001b[90m━━━━━━━━━━━━━━━━\u001b[0m \u001b[32m143.4/243.1 kB\u001b[0m \u001b[31m4.2 MB/s\u001b[0m eta \u001b[36m0:00:01\u001b[0m\r\u001b[2K     \u001b[90m━━━━━━━━━━━━━━━━━━━━━━━━━━━━━━━━━━━━━━━━\u001b[0m \u001b[32m243.1/243.1 kB\u001b[0m \u001b[31m4.9 MB/s\u001b[0m eta \u001b[36m0:00:00\u001b[0m\n",
            "\u001b[?25h  Preparing metadata (setup.py) ... \u001b[?25l\u001b[?25hdone\n",
            "Requirement already satisfied: requests in /usr/local/lib/python3.10/dist-packages (from pyTelegramBotApi) (2.31.0)\n",
            "Requirement already satisfied: charset-normalizer<4,>=2 in /usr/local/lib/python3.10/dist-packages (from requests->pyTelegramBotApi) (3.3.1)\n",
            "Requirement already satisfied: idna<4,>=2.5 in /usr/local/lib/python3.10/dist-packages (from requests->pyTelegramBotApi) (3.4)\n",
            "Requirement already satisfied: urllib3<3,>=1.21.1 in /usr/local/lib/python3.10/dist-packages (from requests->pyTelegramBotApi) (2.0.7)\n",
            "Requirement already satisfied: certifi>=2017.4.17 in /usr/local/lib/python3.10/dist-packages (from requests->pyTelegramBotApi) (2023.7.22)\n",
            "Building wheels for collected packages: pyTelegramBotApi\n",
            "  Building wheel for pyTelegramBotApi (setup.py) ... \u001b[?25l\u001b[?25hdone\n",
            "  Created wheel for pyTelegramBotApi: filename=pyTelegramBotAPI-4.14.0-py3-none-any.whl size=215251 sha256=b27a30ddedb7cb0be8340b475984cc4d74e7372a8cfbe745646534c81eb7f23f\n",
            "  Stored in directory: /root/.cache/pip/wheels/25/51/2d/24b40a366c85c37928d5aa36ddf257e5a79fad25e1ecd11b2c\n",
            "Successfully built pyTelegramBotApi\n",
            "Installing collected packages: pyTelegramBotApi\n",
            "Successfully installed pyTelegramBotApi-4.14.0\n"
          ]
        }
      ]
    },
    {
      "cell_type": "markdown",
      "source": [
        "# Imagenes con el chatbot"
      ],
      "metadata": {
        "id": "jdWE-pjK4qyK"
      }
    },
    {
      "cell_type": "code",
      "source": [
        "res = Bard().get_answer(\"Find me an image of the main entrance of Stanford University.\")\n",
        "res['links'] # Get image links (list)\n",
        "res['images'] # Get images (list)"
      ],
      "metadata": {
        "colab": {
          "base_uri": "https://localhost:8080/"
        },
        "id": "_wDQZa_0aptN",
        "outputId": "566b0cde-ab87-497a-9050-0f2e07dc169a"
      },
      "execution_count": null,
      "outputs": [
        {
          "output_type": "execute_result",
          "data": {
            "text/plain": [
              "['https://visit.stanford.edu/assets/cardinal/images/home_palm_drive.jpg']"
            ]
          },
          "metadata": {},
          "execution_count": 56
        }
      ]
    },
    {
      "cell_type": "code",
      "source": [
        "import bardapi"
      ],
      "metadata": {
        "id": "ulKWQfk5hNZl"
      },
      "execution_count": 14,
      "outputs": []
    },
    {
      "cell_type": "code",
      "source": [
        "bard = bardapi.Bard()"
      ],
      "metadata": {
        "id": "6EK5R3cUnhY3"
      },
      "execution_count": 19,
      "outputs": []
    },
    {
      "cell_type": "code",
      "source": [
        "bard."
      ],
      "metadata": {
        "id": "QQFiuDuN5Hyy"
      },
      "execution_count": null,
      "outputs": []
    },
    {
      "cell_type": "code",
      "source": [
        "!pip install bard --upgrade"
      ],
      "metadata": {
        "colab": {
          "base_uri": "https://localhost:8080/"
        },
        "id": "RRNPYeybwm88",
        "outputId": "70378db3-c4e7-4300-a34a-daec6e2ced58"
      },
      "execution_count": 12,
      "outputs": [
        {
          "output_type": "stream",
          "name": "stdout",
          "text": [
            "\u001b[31mERROR: Operation cancelled by user\u001b[0m\u001b[31m\n",
            "\u001b[0m"
          ]
        }
      ]
    },
    {
      "cell_type": "code",
      "source": [
        "!pip show bard"
      ],
      "metadata": {
        "colab": {
          "base_uri": "https://localhost:8080/"
        },
        "id": "Dgdp-mPFxBug",
        "outputId": "55cb8a18-8bc7-4891-c753-42bd7e30fb39"
      },
      "execution_count": 17,
      "outputs": [
        {
          "output_type": "stream",
          "name": "stdout",
          "text": [
            "\u001b[33mWARNING: Package(s) not found: bard\u001b[0m\u001b[33m\n",
            "\u001b[0m"
          ]
        }
      ]
    },
    {
      "cell_type": "markdown",
      "source": [
        "# Terapeuta\n",
        "Si no consigo entrenar el propio Bard de api se me ocurre crear un terapeuta que sea con el que tu hables. Puedo entrenar al terapeuta controlando su comportamiento y si no sabe que responder que pase a una respuesta de BARD"
      ],
      "metadata": {
        "id": "FEzvtnak5fVA"
      }
    },
    {
      "cell_type": "code",
      "source": [
        "class Terapeuta:\n",
        "    def __init__(self, nombre, especialidad, experiencia):\n",
        "        self.nombre = nombre\n",
        "        self.especialidad = especialidad\n",
        "        self.experiencia = experiencia\n",
        "        self.pacientes_atendidos = []\n",
        "\n",
        "    def atender_paciente(self, paciente):\n",
        "        self.pacientes_atendidos.append(paciente)\n",
        "        print(f\"{self.nombre} está atendiendo a {paciente.nombre}\")\n",
        "\n",
        "    def obtener_informacion(self):\n",
        "        return f\"Nombre: {self.nombre}, Especialidad: {self.especialidad}, Experiencia: {self.experiencia} años\"\n",
        "\n",
        "class Paciente:\n",
        "    def __init__(self, nombre, edad, problema):\n",
        "        self.nombre = nombre\n",
        "        self.edad = edad\n",
        "        self.problema = problema\n",
        "\n",
        "    def __str__(self):\n",
        "        return f\"Nombre: {self.nombre}, Edad: {self.edad}, Problema: {self.problema}\"\n",
        "\n"
      ],
      "metadata": {
        "id": "TT0z7VrO5ek1"
      },
      "execution_count": null,
      "outputs": []
    }
  ]
}